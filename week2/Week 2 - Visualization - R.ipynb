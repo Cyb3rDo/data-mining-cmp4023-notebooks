{
 "cells": [
  {
   "cell_type": "markdown",
   "metadata": {},
   "source": [
    "# Data Warehousing and Data Mining\n",
    "\n",
    "## Labs\n",
    "\n",
    "### Prepared by Gilroy Gordon\n",
    "\n",
    "#### Contact Information\n",
    "\n",
    "SCIT ext. 3643\n",
    "\n",
    "ggordonutech@gmail.com\n",
    "\n",
    "gilroy.gordon@utech.edu.jm\n",
    "\n"
   ]
  },
  {
   "cell_type": "markdown",
   "metadata": {},
   "source": [
    "### Week 2 - Visualization in R\n",
    "\n",
    "\n",
    "Additional Reference Resources:\n",
    "\n",
    "http://www.sthda.com/english/wiki/ggplot2-box-plot-quick-start-guide-r-software-and-data-visualization\n",
    "\n",
    "https://www.statmethods.net/graphs/dot.html\n",
    "\n",
    "Objectives\n",
    "----\n",
    "---\n",
    "     > Importing Data\n",
    "         > csv\n",
    "     > 2D Visualization\n",
    "          > Bar Plots\n",
    "          > Scatter Plots\n",
    "          > Box Plot\n",
    "          > Histograms\n",
    "          > Line Charts\n",
    "     "
   ]
  },
  {
   "cell_type": "markdown",
   "metadata": {},
   "source": [
    "### Importing Data"
   ]
  },
  {
   "cell_type": "code",
   "execution_count": 7,
   "metadata": {},
   "outputs": [],
   "source": [
    "# Import the ggplot2 library to assist with data visualization\n",
    "library(ggplot2) # if you receive and error that the library is not available run `install.packages('ggplot2')`"
   ]
  },
  {
   "cell_type": "code",
   "execution_count": 9,
   "metadata": {},
   "outputs": [
    {
     "name": "stderr",
     "output_type": "stream",
     "text": [
      "\n",
      "Attaching package: ‘dplyr’\n",
      "\n",
      "The following objects are masked from ‘package:stats’:\n",
      "\n",
      "    filter, lag\n",
      "\n",
      "The following objects are masked from ‘package:base’:\n",
      "\n",
      "    intersect, setdiff, setequal, union\n",
      "\n"
     ]
    }
   ],
   "source": [
    "# Import the dplyr library to assist with data transformation\n",
    "library(dplyr) # if you receive and error that the library is not available run `install.packages('dplyr')`"
   ]
  },
  {
   "cell_type": "code",
   "execution_count": 72,
   "metadata": {},
   "outputs": [
    {
     "data": {
      "text/html": [
       "<ol class=list-inline>\n",
       "\t<li>'data'</li>\n",
       "\t<li>'Week 2 - Visualization - Python.ipynb'</li>\n",
       "\t<li>'Week 2 - Visualization - R.ipynb'</li>\n",
       "</ol>\n"
      ],
      "text/latex": [
       "\\begin{enumerate*}\n",
       "\\item 'data'\n",
       "\\item 'Week 2 - Visualization - Python.ipynb'\n",
       "\\item 'Week 2 - Visualization - R.ipynb'\n",
       "\\end{enumerate*}\n"
      ],
      "text/markdown": [
       "1. 'data'\n",
       "2. 'Week 2 - Visualization - Python.ipynb'\n",
       "3. 'Week 2 - Visualization - R.ipynb'\n",
       "\n",
       "\n"
      ],
      "text/plain": [
       "[1] \"data\"                                 \n",
       "[2] \"Week 2 - Visualization - Python.ipynb\"\n",
       "[3] \"Week 2 - Visualization - R.ipynb\"     "
      ]
     },
     "metadata": {},
     "output_type": "display_data"
    }
   ],
   "source": [
    "# What files are available in the current directory?\n",
    "dir()"
   ]
  },
  {
   "cell_type": "code",
   "execution_count": 71,
   "metadata": {},
   "outputs": [
    {
     "data": {
      "text/html": [
       "<ol class=list-inline>\n",
       "\t<li>'crime_incidents_2013_data.csv'</li>\n",
       "\t<li>'crime_incidents_2013_location.csv'</li>\n",
       "\t<li>'NBA.csv'</li>\n",
       "\t<li>'US GDP.csv'</li>\n",
       "</ol>\n"
      ],
      "text/latex": [
       "\\begin{enumerate*}\n",
       "\\item 'crime\\_incidents\\_2013\\_data.csv'\n",
       "\\item 'crime\\_incidents\\_2013\\_location.csv'\n",
       "\\item 'NBA.csv'\n",
       "\\item 'US GDP.csv'\n",
       "\\end{enumerate*}\n"
      ],
      "text/markdown": [
       "1. 'crime_incidents_2013_data.csv'\n",
       "2. 'crime_incidents_2013_location.csv'\n",
       "3. 'NBA.csv'\n",
       "4. 'US GDP.csv'\n",
       "\n",
       "\n"
      ],
      "text/plain": [
       "[1] \"crime_incidents_2013_data.csv\"     \"crime_incidents_2013_location.csv\"\n",
       "[3] \"NBA.csv\"                           \"US GDP.csv\"                       "
      ]
     },
     "metadata": {},
     "output_type": "display_data"
    }
   ],
   "source": [
    "# What files are available in the \"./data\" directory?\n",
    "dir('data')"
   ]
  },
  {
   "cell_type": "code",
   "execution_count": 10,
   "metadata": {},
   "outputs": [
    {
     "data": {
      "text/html": [
       "<table>\n",
       "<thead><tr><th scope=col>Year</th><th scope=col>US_GDP_BN</th><th scope=col>GDP_Growth_PC</th></tr></thead>\n",
       "<tbody>\n",
       "\t<tr><td>1980</td><td>2863</td><td> 0.0</td></tr>\n",
       "\t<tr><td>1981</td><td>3211</td><td>12.2</td></tr>\n",
       "\t<tr><td>1982</td><td>3345</td><td> 4.2</td></tr>\n",
       "\t<tr><td>1983</td><td>3638</td><td> 8.8</td></tr>\n",
       "\t<tr><td>1984</td><td>4041</td><td>11.1</td></tr>\n",
       "\t<tr><td>1985</td><td>4347</td><td> 7.6</td></tr>\n",
       "\t<tr><td>1986</td><td>4590</td><td> 5.6</td></tr>\n",
       "\t<tr><td>1987</td><td>4870</td><td> 6.1</td></tr>\n",
       "</tbody>\n",
       "</table>\n"
      ],
      "text/latex": [
       "\\begin{tabular}{r|lll}\n",
       " Year & US\\_GDP\\_BN & GDP\\_Growth\\_PC\\\\\n",
       "\\hline\n",
       "\t 1980 & 2863 &  0.0\\\\\n",
       "\t 1981 & 3211 & 12.2\\\\\n",
       "\t 1982 & 3345 &  4.2\\\\\n",
       "\t 1983 & 3638 &  8.8\\\\\n",
       "\t 1984 & 4041 & 11.1\\\\\n",
       "\t 1985 & 4347 &  7.6\\\\\n",
       "\t 1986 & 4590 &  5.6\\\\\n",
       "\t 1987 & 4870 &  6.1\\\\\n",
       "\\end{tabular}\n"
      ],
      "text/markdown": [
       "\n",
       "Year | US_GDP_BN | GDP_Growth_PC | \n",
       "|---|---|---|---|---|---|---|---|\n",
       "| 1980 | 2863 |  0.0 | \n",
       "| 1981 | 3211 | 12.2 | \n",
       "| 1982 | 3345 |  4.2 | \n",
       "| 1983 | 3638 |  8.8 | \n",
       "| 1984 | 4041 | 11.1 | \n",
       "| 1985 | 4347 |  7.6 | \n",
       "| 1986 | 4590 |  5.6 | \n",
       "| 1987 | 4870 |  6.1 | \n",
       "\n",
       "\n"
      ],
      "text/plain": [
       "  Year US_GDP_BN GDP_Growth_PC\n",
       "1 1980 2863       0.0         \n",
       "2 1981 3211      12.2         \n",
       "3 1982 3345       4.2         \n",
       "4 1983 3638       8.8         \n",
       "5 1984 4041      11.1         \n",
       "6 1985 4347       7.6         \n",
       "7 1986 4590       5.6         \n",
       "8 1987 4870       6.1         "
      ]
     },
     "metadata": {},
     "output_type": "display_data"
    }
   ],
   "source": [
    "#read the contents of the 'crime_incidents_2013_data.csv' as a csv file and return the contents in a dataframe\n",
    "# store data in cr2013\n",
    "us_gdp = read.csv('data/US GDP.csv')\n",
    "\n",
    "#preview the first 8 records of the dataset\n",
    "head(us_gdp,8)"
   ]
  },
  {
   "cell_type": "markdown",
   "metadata": {},
   "source": [
    "### Scatter Plot"
   ]
  },
  {
   "cell_type": "code",
   "execution_count": 25,
   "metadata": {},
   "outputs": [
    {
     "data": {},
     "metadata": {},
     "output_type": "display_data"
    },
    {
     "data": {
      "image/png": "[encoded data removed]",
      "text/plain": [
       "plot without title"
      ]
     },
     "metadata": {},
     "output_type": "display_data"
    }
   ],
   "source": [
    "ggplot(us_gdp, # start with the data\n",
    "       aes(    # indicate which columns should be used where in the graph\n",
    "           x=Year,\n",
    "           y=US_GDP_BN\n",
    "       )\n",
    "      ) + \n",
    "geom_point() + # use points i.e. a scatter plot\n",
    "labs( # specify labels\n",
    "    title=\"US GDP per year\",\n",
    "    subtitle=paste(\"From\",min(us_gdp$Year),\" to \",max(us_gdp$Year),collapse=\"\")\n",
    ") + \n",
    "ylab(\"GDP\")"
   ]
  },
  {
   "cell_type": "markdown",
   "metadata": {},
   "source": [
    "# Line Graph\n",
    "\n",
    "<i>\"Exploring the trend\"</i>"
   ]
  },
  {
   "cell_type": "code",
   "execution_count": 28,
   "metadata": {},
   "outputs": [
    {
     "data": {},
     "metadata": {},
     "output_type": "display_data"
    },
    {
     "data": {
      "image/png": "[encoded data removed]",
      "text/plain": [
       "plot without title"
      ]
     },
     "metadata": {},
     "output_type": "display_data"
    }
   ],
   "source": [
    "ggplot(us_gdp, # start with the data\n",
    "       aes(    # indicate which columns should be used where in the graph\n",
    "           x=Year,\n",
    "           y=US_GDP_BN\n",
    "       )\n",
    "      ) + \n",
    "geom_line() + # use a line\n",
    "labs( # specify labels\n",
    "    title=\"US GDP per year\",\n",
    "    subtitle=paste(\"From\",min(us_gdp$Year),\" to \",max(us_gdp$Year),collapse=\"\")\n",
    ") + \n",
    "ylab(\"GDP\")"
   ]
  },
  {
   "cell_type": "code",
   "execution_count": 61,
   "metadata": {},
   "outputs": [
    {
     "data": {},
     "metadata": {},
     "output_type": "display_data"
    },
    {
     "data": {
      "image/png": "[encoded data removed]",
      "text/plain": [
       "plot without title"
      ]
     },
     "metadata": {},
     "output_type": "display_data"
    }
   ],
   "source": [
    "ggplot(us_gdp, # start with the data\n",
    "       aes(    # indicate which columns should be used where in the graph\n",
    "           x=Year,\n",
    "           y=US_GDP_BN,\n",
    "           size=GDP_Growth_PC\n",
    "       )\n",
    "      ) + \n",
    "  geom_point()+ # (add `+ geom_line()`)use a line + points\n",
    "labs( # specify labels\n",
    "    title=\"US GDP per year\",\n",
    "    subtitle=paste(\"From\",min(us_gdp$Year),\" to \",max(us_gdp$Year),collapse=\"\")\n",
    ") + \n",
    "ylab(\"GDP\")"
   ]
  },
  {
   "cell_type": "markdown",
   "metadata": {},
   "source": [
    "### Bar Plot - Histogram"
   ]
  },
  {
   "cell_type": "code",
   "execution_count": 37,
   "metadata": {},
   "outputs": [
    {
     "data": {},
     "metadata": {},
     "output_type": "display_data"
    },
    {
     "data": {
      "image/png": "[encoded data removed]",
      "text/plain": [
       "plot without title"
      ]
     },
     "metadata": {},
     "output_type": "display_data"
    }
   ],
   "source": [
    "ggplot(us_gdp, # start with the data\n",
    "       aes(    # indicate which columns should be used where in the graph\n",
    "           x=GDP_Growth_PC\n",
    "       )\n",
    "      ) + \n",
    "geom_bar() + # use bars i.e. a barplot / histogram\n",
    "labs( # specify labels\n",
    "    title=\"US GDP per year\",\n",
    "    subtitle=paste(\"From\",min(us_gdp$Year),\" to \",max(us_gdp$Year),collapse=\"\")\n",
    ") "
   ]
  },
  {
   "cell_type": "code",
   "execution_count": 36,
   "metadata": {},
   "outputs": [
    {
     "data": {
      "text/plain": [
       "\n",
       "  -2    0  1.7  3.3  3.7  3.8  3.9  4.2  4.5  4.9  5.2  5.6  5.7  5.8  5.9  6.1 \n",
       "   1    1    1    3    2    1    1    2    1    2    1    2    2    1    1    1 \n",
       " 6.3  6.5  6.6  6.7  7.6  7.7  7.9  8.8 11.1 12.2 \n",
       "   3    1    1    1    1    1    1    1    1    1 "
      ]
     },
     "metadata": {},
     "output_type": "display_data"
    }
   ],
   "source": [
    "# What did we really just visualize?\n",
    "table(us_gdp$GDP_Growth_PC) #shows counts of value"
   ]
  },
  {
   "cell_type": "code",
   "execution_count": 41,
   "metadata": {},
   "outputs": [],
   "source": [
    "# Import the library to assist with binning\n",
    "library(OneR) # if you receive and error that the library is not available run `install.packages('OneR')`"
   ]
  },
  {
   "cell_type": "code",
   "execution_count": 45,
   "metadata": {},
   "outputs": [
    {
     "data": {
      "text/html": [
       "<ol class=list-inline>\n",
       "\t<li>(-2.01,0.84]</li>\n",
       "\t<li>(9.36,12.2]</li>\n",
       "\t<li>(3.68,6.52]</li>\n",
       "\t<li>(6.52,9.36]</li>\n",
       "\t<li>(9.36,12.2]</li>\n",
       "\t<li>(6.52,9.36]</li>\n",
       "\t<li>(3.68,6.52]</li>\n",
       "\t<li>(3.68,6.52]</li>\n",
       "\t<li>(6.52,9.36]</li>\n",
       "\t<li>(6.52,9.36]</li>\n",
       "\t<li>(3.68,6.52]</li>\n",
       "\t<li>(0.84,3.68]</li>\n",
       "\t<li>(3.68,6.52]</li>\n",
       "\t<li>(3.68,6.52]</li>\n",
       "\t<li>(3.68,6.52]</li>\n",
       "\t<li>(3.68,6.52]</li>\n",
       "\t<li>(3.68,6.52]</li>\n",
       "\t<li>(3.68,6.52]</li>\n",
       "\t<li>(3.68,6.52]</li>\n",
       "\t<li>(3.68,6.52]</li>\n",
       "\t<li>(3.68,6.52]</li>\n",
       "\t<li>(0.84,3.68]</li>\n",
       "\t<li>(0.84,3.68]</li>\n",
       "\t<li>(3.68,6.52]</li>\n",
       "\t<li>(6.52,9.36]</li>\n",
       "\t<li>(6.52,9.36]</li>\n",
       "\t<li>(3.68,6.52]</li>\n",
       "\t<li>(3.68,6.52]</li>\n",
       "\t<li>(0.84,3.68]</li>\n",
       "\t<li>(-2.01,0.84]</li>\n",
       "\t<li>(3.68,6.52]</li>\n",
       "\t<li>(3.68,6.52]</li>\n",
       "\t<li>(3.68,6.52]</li>\n",
       "\t<li>(3.68,6.52]</li>\n",
       "\t<li>(3.68,6.52]</li>\n",
       "</ol>\n",
       "\n",
       "<details>\n",
       "\t<summary style=display:list-item;cursor:pointer>\n",
       "\t\t<strong>Levels</strong>:\n",
       "\t</summary>\n",
       "\t<ol class=list-inline>\n",
       "\t\t<li>'(-2.01,0.84]'</li>\n",
       "\t\t<li>'(0.84,3.68]'</li>\n",
       "\t\t<li>'(3.68,6.52]'</li>\n",
       "\t\t<li>'(6.52,9.36]'</li>\n",
       "\t\t<li>'(9.36,12.2]'</li>\n",
       "\t</ol>\n",
       "</details>"
      ],
      "text/latex": [
       "\\begin{enumerate*}\n",
       "\\item (-2.01,0.84{]}\n",
       "\\item (9.36,12.2{]}\n",
       "\\item (3.68,6.52{]}\n",
       "\\item (6.52,9.36{]}\n",
       "\\item (9.36,12.2{]}\n",
       "\\item (6.52,9.36{]}\n",
       "\\item (3.68,6.52{]}\n",
       "\\item (3.68,6.52{]}\n",
       "\\item (6.52,9.36{]}\n",
       "\\item (6.52,9.36{]}\n",
       "\\item (3.68,6.52{]}\n",
       "\\item (0.84,3.68{]}\n",
       "\\item (3.68,6.52{]}\n",
       "\\item (3.68,6.52{]}\n",
       "\\item (3.68,6.52{]}\n",
       "\\item (3.68,6.52{]}\n",
       "\\item (3.68,6.52{]}\n",
       "\\item (3.68,6.52{]}\n",
       "\\item (3.68,6.52{]}\n",
       "\\item (3.68,6.52{]}\n",
       "\\item (3.68,6.52{]}\n",
       "\\item (0.84,3.68{]}\n",
       "\\item (0.84,3.68{]}\n",
       "\\item (3.68,6.52{]}\n",
       "\\item (6.52,9.36{]}\n",
       "\\item (6.52,9.36{]}\n",
       "\\item (3.68,6.52{]}\n",
       "\\item (3.68,6.52{]}\n",
       "\\item (0.84,3.68{]}\n",
       "\\item (-2.01,0.84{]}\n",
       "\\item (3.68,6.52{]}\n",
       "\\item (3.68,6.52{]}\n",
       "\\item (3.68,6.52{]}\n",
       "\\item (3.68,6.52{]}\n",
       "\\item (3.68,6.52{]}\n",
       "\\end{enumerate*}\n",
       "\n",
       "\\emph{Levels}: \\begin{enumerate*}\n",
       "\\item '(-2.01,0.84{]}'\n",
       "\\item '(0.84,3.68{]}'\n",
       "\\item '(3.68,6.52{]}'\n",
       "\\item '(6.52,9.36{]}'\n",
       "\\item '(9.36,12.2{]}'\n",
       "\\end{enumerate*}\n"
      ],
      "text/markdown": [
       "1. (-2.01,0.84]\n",
       "2. (9.36,12.2]\n",
       "3. (3.68,6.52]\n",
       "4. (6.52,9.36]\n",
       "5. (9.36,12.2]\n",
       "6. (6.52,9.36]\n",
       "7. (3.68,6.52]\n",
       "8. (3.68,6.52]\n",
       "9. (6.52,9.36]\n",
       "10. (6.52,9.36]\n",
       "11. (3.68,6.52]\n",
       "12. (0.84,3.68]\n",
       "13. (3.68,6.52]\n",
       "14. (3.68,6.52]\n",
       "15. (3.68,6.52]\n",
       "16. (3.68,6.52]\n",
       "17. (3.68,6.52]\n",
       "18. (3.68,6.52]\n",
       "19. (3.68,6.52]\n",
       "20. (3.68,6.52]\n",
       "21. (3.68,6.52]\n",
       "22. (0.84,3.68]\n",
       "23. (0.84,3.68]\n",
       "24. (3.68,6.52]\n",
       "25. (6.52,9.36]\n",
       "26. (6.52,9.36]\n",
       "27. (3.68,6.52]\n",
       "28. (3.68,6.52]\n",
       "29. (0.84,3.68]\n",
       "30. (-2.01,0.84]\n",
       "31. (3.68,6.52]\n",
       "32. (3.68,6.52]\n",
       "33. (3.68,6.52]\n",
       "34. (3.68,6.52]\n",
       "35. (3.68,6.52]\n",
       "\n",
       "\n",
       "\n",
       "**Levels**: 1. '(-2.01,0.84]'\n",
       "2. '(0.84,3.68]'\n",
       "3. '(3.68,6.52]'\n",
       "4. '(6.52,9.36]'\n",
       "5. '(9.36,12.2]'\n",
       "\n",
       "\n"
      ],
      "text/plain": [
       " [1] (-2.01,0.84] (9.36,12.2]  (3.68,6.52]  (6.52,9.36]  (9.36,12.2] \n",
       " [6] (6.52,9.36]  (3.68,6.52]  (3.68,6.52]  (6.52,9.36]  (6.52,9.36] \n",
       "[11] (3.68,6.52]  (0.84,3.68]  (3.68,6.52]  (3.68,6.52]  (3.68,6.52] \n",
       "[16] (3.68,6.52]  (3.68,6.52]  (3.68,6.52]  (3.68,6.52]  (3.68,6.52] \n",
       "[21] (3.68,6.52]  (0.84,3.68]  (0.84,3.68]  (3.68,6.52]  (6.52,9.36] \n",
       "[26] (6.52,9.36]  (3.68,6.52]  (3.68,6.52]  (0.84,3.68]  (-2.01,0.84]\n",
       "[31] (3.68,6.52]  (3.68,6.52]  (3.68,6.52]  (3.68,6.52]  (3.68,6.52] \n",
       "Levels: (-2.01,0.84] (0.84,3.68] (3.68,6.52] (6.52,9.36] (9.36,12.2]"
      ]
     },
     "metadata": {},
     "output_type": "display_data"
    }
   ],
   "source": [
    "GDP_Growth_PC_binned = bin(us_gdp$GDP_Growth_PC,nbins=5)#labels parameter assigns group names\n",
    "GDP_Growth_PC_binned"
   ]
  },
  {
   "cell_type": "code",
   "execution_count": 46,
   "metadata": {},
   "outputs": [
    {
     "data": {
      "text/plain": [
       "GDP_Growth_PC_binned\n",
       "(-2.01,0.84]  (0.84,3.68]  (3.68,6.52]  (6.52,9.36]  (9.36,12.2] \n",
       "           2            4           21            6            2 "
      ]
     },
     "metadata": {},
     "output_type": "display_data"
    }
   ],
   "source": [
    "table(GDP_Growth_PC_binned) "
   ]
  },
  {
   "cell_type": "code",
   "execution_count": 53,
   "metadata": {},
   "outputs": [
    {
     "data": {
      "text/html": [
       "<table>\n",
       "<thead><tr><th scope=col>GDP Group</th></tr></thead>\n",
       "<tbody>\n",
       "\t<tr><td>(-2.01,0.84]</td></tr>\n",
       "\t<tr><td>(9.36,12.2] </td></tr>\n",
       "\t<tr><td>(3.68,6.52] </td></tr>\n",
       "\t<tr><td>(6.52,9.36] </td></tr>\n",
       "\t<tr><td>(9.36,12.2] </td></tr>\n",
       "\t<tr><td>(6.52,9.36] </td></tr>\n",
       "\t<tr><td>(3.68,6.52] </td></tr>\n",
       "\t<tr><td>(3.68,6.52] </td></tr>\n",
       "\t<tr><td>(6.52,9.36] </td></tr>\n",
       "\t<tr><td>(6.52,9.36] </td></tr>\n",
       "\t<tr><td>(3.68,6.52] </td></tr>\n",
       "\t<tr><td>(0.84,3.68] </td></tr>\n",
       "\t<tr><td>(3.68,6.52] </td></tr>\n",
       "\t<tr><td>(3.68,6.52] </td></tr>\n",
       "\t<tr><td>(3.68,6.52] </td></tr>\n",
       "\t<tr><td>(3.68,6.52] </td></tr>\n",
       "\t<tr><td>(3.68,6.52] </td></tr>\n",
       "\t<tr><td>(3.68,6.52] </td></tr>\n",
       "\t<tr><td>(3.68,6.52] </td></tr>\n",
       "\t<tr><td>(3.68,6.52] </td></tr>\n",
       "\t<tr><td>(3.68,6.52] </td></tr>\n",
       "\t<tr><td>(0.84,3.68] </td></tr>\n",
       "\t<tr><td>(0.84,3.68] </td></tr>\n",
       "\t<tr><td>(3.68,6.52] </td></tr>\n",
       "\t<tr><td>(6.52,9.36] </td></tr>\n",
       "\t<tr><td>(6.52,9.36] </td></tr>\n",
       "\t<tr><td>(3.68,6.52] </td></tr>\n",
       "\t<tr><td>(3.68,6.52] </td></tr>\n",
       "\t<tr><td>(0.84,3.68] </td></tr>\n",
       "\t<tr><td>(-2.01,0.84]</td></tr>\n",
       "\t<tr><td>(3.68,6.52] </td></tr>\n",
       "\t<tr><td>(3.68,6.52] </td></tr>\n",
       "\t<tr><td>(3.68,6.52] </td></tr>\n",
       "\t<tr><td>(3.68,6.52] </td></tr>\n",
       "\t<tr><td>(3.68,6.52] </td></tr>\n",
       "</tbody>\n",
       "</table>\n"
      ],
      "text/latex": [
       "\\begin{tabular}{r|l}\n",
       " GDP Group\\\\\n",
       "\\hline\n",
       "\t (-2.01,0.84{]}\\\\\n",
       "\t (9.36,12.2{]} \\\\\n",
       "\t (3.68,6.52{]} \\\\\n",
       "\t (6.52,9.36{]} \\\\\n",
       "\t (9.36,12.2{]} \\\\\n",
       "\t (6.52,9.36{]} \\\\\n",
       "\t (3.68,6.52{]} \\\\\n",
       "\t (3.68,6.52{]} \\\\\n",
       "\t (6.52,9.36{]} \\\\\n",
       "\t (6.52,9.36{]} \\\\\n",
       "\t (3.68,6.52{]} \\\\\n",
       "\t (0.84,3.68{]} \\\\\n",
       "\t (3.68,6.52{]} \\\\\n",
       "\t (3.68,6.52{]} \\\\\n",
       "\t (3.68,6.52{]} \\\\\n",
       "\t (3.68,6.52{]} \\\\\n",
       "\t (3.68,6.52{]} \\\\\n",
       "\t (3.68,6.52{]} \\\\\n",
       "\t (3.68,6.52{]} \\\\\n",
       "\t (3.68,6.52{]} \\\\\n",
       "\t (3.68,6.52{]} \\\\\n",
       "\t (0.84,3.68{]} \\\\\n",
       "\t (0.84,3.68{]} \\\\\n",
       "\t (3.68,6.52{]} \\\\\n",
       "\t (6.52,9.36{]} \\\\\n",
       "\t (6.52,9.36{]} \\\\\n",
       "\t (3.68,6.52{]} \\\\\n",
       "\t (3.68,6.52{]} \\\\\n",
       "\t (0.84,3.68{]} \\\\\n",
       "\t (-2.01,0.84{]}\\\\\n",
       "\t (3.68,6.52{]} \\\\\n",
       "\t (3.68,6.52{]} \\\\\n",
       "\t (3.68,6.52{]} \\\\\n",
       "\t (3.68,6.52{]} \\\\\n",
       "\t (3.68,6.52{]} \\\\\n",
       "\\end{tabular}\n"
      ],
      "text/markdown": [
       "\n",
       "GDP Group | \n",
       "|---|---|---|---|---|---|---|---|---|---|---|---|---|---|---|---|---|---|---|---|---|---|---|---|---|---|---|---|---|---|---|---|---|---|---|\n",
       "| (-2.01,0.84] | \n",
       "| (9.36,12.2]  | \n",
       "| (3.68,6.52]  | \n",
       "| (6.52,9.36]  | \n",
       "| (9.36,12.2]  | \n",
       "| (6.52,9.36]  | \n",
       "| (3.68,6.52]  | \n",
       "| (3.68,6.52]  | \n",
       "| (6.52,9.36]  | \n",
       "| (6.52,9.36]  | \n",
       "| (3.68,6.52]  | \n",
       "| (0.84,3.68]  | \n",
       "| (3.68,6.52]  | \n",
       "| (3.68,6.52]  | \n",
       "| (3.68,6.52]  | \n",
       "| (3.68,6.52]  | \n",
       "| (3.68,6.52]  | \n",
       "| (3.68,6.52]  | \n",
       "| (3.68,6.52]  | \n",
       "| (3.68,6.52]  | \n",
       "| (3.68,6.52]  | \n",
       "| (0.84,3.68]  | \n",
       "| (0.84,3.68]  | \n",
       "| (3.68,6.52]  | \n",
       "| (6.52,9.36]  | \n",
       "| (6.52,9.36]  | \n",
       "| (3.68,6.52]  | \n",
       "| (3.68,6.52]  | \n",
       "| (0.84,3.68]  | \n",
       "| (-2.01,0.84] | \n",
       "| (3.68,6.52]  | \n",
       "| (3.68,6.52]  | \n",
       "| (3.68,6.52]  | \n",
       "| (3.68,6.52]  | \n",
       "| (3.68,6.52]  | \n",
       "\n",
       "\n"
      ],
      "text/plain": [
       "   GDP Group   \n",
       "1  (-2.01,0.84]\n",
       "2  (9.36,12.2] \n",
       "3  (3.68,6.52] \n",
       "4  (6.52,9.36] \n",
       "5  (9.36,12.2] \n",
       "6  (6.52,9.36] \n",
       "7  (3.68,6.52] \n",
       "8  (3.68,6.52] \n",
       "9  (6.52,9.36] \n",
       "10 (6.52,9.36] \n",
       "11 (3.68,6.52] \n",
       "12 (0.84,3.68] \n",
       "13 (3.68,6.52] \n",
       "14 (3.68,6.52] \n",
       "15 (3.68,6.52] \n",
       "16 (3.68,6.52] \n",
       "17 (3.68,6.52] \n",
       "18 (3.68,6.52] \n",
       "19 (3.68,6.52] \n",
       "20 (3.68,6.52] \n",
       "21 (3.68,6.52] \n",
       "22 (0.84,3.68] \n",
       "23 (0.84,3.68] \n",
       "24 (3.68,6.52] \n",
       "25 (6.52,9.36] \n",
       "26 (6.52,9.36] \n",
       "27 (3.68,6.52] \n",
       "28 (3.68,6.52] \n",
       "29 (0.84,3.68] \n",
       "30 (-2.01,0.84]\n",
       "31 (3.68,6.52] \n",
       "32 (3.68,6.52] \n",
       "33 (3.68,6.52] \n",
       "34 (3.68,6.52] \n",
       "35 (3.68,6.52] "
      ]
     },
     "metadata": {},
     "output_type": "display_data"
    }
   ],
   "source": [
    "GDP_Growth_PC_binned_df = data.frame('GDP Group'=GDP_Growth_PC_binned,check.names=FALSE)\n",
    "GDP_Growth_PC_binned_df"
   ]
  },
  {
   "cell_type": "code",
   "execution_count": 74,
   "metadata": {},
   "outputs": [
    {
     "data": {},
     "metadata": {},
     "output_type": "display_data"
    },
    {
     "data": {
      "image/png": "[encoded data removed]",
      "text/plain": [
       "plot without title"
      ]
     },
     "metadata": {},
     "output_type": "display_data"
    }
   ],
   "source": [
    "ggplot(GDP_Growth_PC_binned_df, # start with the data\n",
    "       aes(    # indicate which columns should be used where in the graph\n",
    "           x=`GDP Group`,\n",
    "           color=`GDP Group`\n",
    "       )\n",
    "      ) + \n",
    "geom_bar() + # use bars i.e. a barplot / histogram\n",
    "labs( # specify labels\n",
    "    title=\"US GDP Growth %\",\n",
    "    subtitle=paste(\"From\",min(us_gdp$Year),\" to \",max(us_gdp$Year),collapse=\"\")\n",
    ")"
   ]
  },
  {
   "cell_type": "code",
   "execution_count": 67,
   "metadata": {},
   "outputs": [
    {
     "data": {
      "image/png": "[encoded data removed]",
      "text/plain": [
       "Plot with title “Histogram of us_gdp$Year”"
      ]
     },
     "metadata": {},
     "output_type": "display_data"
    }
   ],
   "source": [
    "hist(us_gdp$Year)"
   ]
  },
  {
   "cell_type": "markdown",
   "metadata": {},
   "source": [
    "### Box plot"
   ]
  },
  {
   "cell_type": "code",
   "execution_count": 79,
   "metadata": {},
   "outputs": [
    {
     "data": {},
     "metadata": {},
     "output_type": "display_data"
    },
    {
     "data": {
      "image/png": "[encoded data removed]",
      "text/plain": [
       "plot without title"
      ]
     },
     "metadata": {},
     "output_type": "display_data"
    }
   ],
   "source": [
    "ggplot(us_gdp, # start with the data\n",
    "       aes(    # indicate which columns should be used where in the graph\n",
    "           x=bin(Year,nbins=3,labels=c('Early 1990s','Late 1990s to Early 2000s','After Early 2000s')),\n",
    "           y=US_GDP_BN\n",
    "       )\n",
    "      ) + \n",
    "geom_boxplot() + # use bars i.e. a barplot / histogram\n",
    "labs( # specify labels\n",
    "    title=\"US GDP per year\",\n",
    "    subtitle=paste(\"From\",min(us_gdp$Year),\" to \",max(us_gdp$Year),collapse=\"\")\n",
    ")+xlab(\"\")"
   ]
  },
  {
   "cell_type": "code",
   "execution_count": 68,
   "metadata": {},
   "outputs": [
    {
     "data": {
      "image/png": "[encoded data removed]",
      "text/plain": [
       "plot without title"
      ]
     },
     "metadata": {},
     "output_type": "display_data"
    }
   ],
   "source": [
    "boxplot(us_gdp$Year)"
   ]
  },
  {
   "cell_type": "markdown",
   "metadata": {},
   "source": [
    "### Other Available Options and Types of Plot \n",
    "```\n",
    "ggplot2::geom_abline    Reference lines: horizontal, vertical, and\n",
    "                        diagonal\n",
    "  Aliases: geom_abline, geom_hline, geom_vline\n",
    "ggplot2::geom_bar       Bar charts\n",
    "  Aliases: geom_bar, geom_col\n",
    "ggplot2::geom_bin2d     Heatmap of 2d bin counts\n",
    "  Aliases: geom_bin2d\n",
    "ggplot2::geom_blank     Draw nothing\n",
    "  Aliases: geom_blank\n",
    "ggplot2::geom_boxplot   A box and whiskers plot (in the style of Tukey)\n",
    "  Aliases: geom_boxplot\n",
    "ggplot2::geom_contour   2d contours of a 3d surface\n",
    "  Aliases: geom_contour\n",
    "ggplot2::geom_count     Count overlapping points\n",
    "  Aliases: geom_count\n",
    "ggplot2::geom_crossbar\n",
    "                        Vertical intervals: lines, crossbars &\n",
    "                        errorbars\n",
    "  Aliases: geom_crossbar, geom_errorbar, geom_linerange,\n",
    "    geom_pointrange\n",
    "ggplot2::geom_density   Smoothed density estimates\n",
    "  Aliases: geom_density\n",
    "ggplot2::geom_density_2d\n",
    "                        Contours of a 2d density estimate\n",
    "  Aliases: geom_density_2d, geom_density2d\n",
    "ggplot2::geom_dotplot   Dot plot\n",
    "  Aliases: geom_dotplot\n",
    "ggplot2::geom_errorbarh\n",
    "                        Horizontal error bars\n",
    "  Aliases: geom_errorbarh\n",
    "ggplot2::geom_freqpoly\n",
    "                        Histograms and frequency polygons\n",
    "  Aliases: geom_freqpoly, geom_histogram\n",
    "ggplot2::geom_hex       Hexagonal heatmap of 2d bin counts\n",
    "  Aliases: geom_hex\n",
    "ggplot2::geom_jitter    Jittered points\n",
    "  Aliases: geom_jitter\n",
    "ggplot2::geom_label     Text\n",
    "  Aliases: geom_label, geom_text\n",
    "ggplot2::geom_map       Polygons from a reference map\n",
    "  Aliases: geom_map\n",
    "ggplot2::geom_path      Connect observations\n",
    "  Aliases: geom_path, geom_line, geom_step\n",
    "ggplot2::geom_point     Points\n",
    "  Aliases: geom_point\n",
    "ggplot2::geom_polygon   Polygons\n",
    "  Aliases: geom_polygon\n",
    "ggplot2::geom_qq_line   A quantile-quantile plot\n",
    "  Aliases: geom_qq_line, geom_qq\n",
    "ggplot2::geom_quantile\n",
    "                        Quantile regression\n",
    "  Aliases: geom_quantile\n",
    "ggplot2::geom_raster    Rectangles\n",
    "  Aliases: geom_raster, geom_rect, geom_tile\n",
    "ggplot2::geom_ribbon    Ribbons and area plots\n",
    "  Aliases: geom_ribbon, geom_area\n",
    "ggplot2::geom_rug       Rug plots in the margins\n",
    "  Aliases: geom_rug\n",
    "ggplot2::geom_segment   Line segments and curves\n",
    "  Aliases: geom_segment, geom_curve\n",
    "ggplot2::geom_smooth    Smoothed conditional means\n",
    "  Aliases: geom_smooth\n",
    "ggplot2::geom_spoke     Line segments parameterised by location,\n",
    "                        direction and distance\n",
    "  Aliases: geom_spoke\n",
    "ggplot2::geom_violin    Violin plot\n",
    "  Aliases: geom_violin\n",
    "  ```"
   ]
  },
  {
   "cell_type": "code",
   "execution_count": null,
   "metadata": {},
   "outputs": [],
   "source": []
  }
 ],
 "metadata": {
  "kernelspec": {
   "display_name": "R",
   "language": "R",
   "name": "ir"
  },
  "language_info": {
   "codemirror_mode": "r",
   "file_extension": ".r",
   "mimetype": "text/x-r-source",
   "name": "R",
   "pygments_lexer": "r",
   "version": "3.4.4"
  }
 },
 "nbformat": 4,
 "nbformat_minor": 2
}
