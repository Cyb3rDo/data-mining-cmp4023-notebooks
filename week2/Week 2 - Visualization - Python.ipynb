{
 "cells": [
  {
   "cell_type": "markdown",
   "metadata": {},
   "source": [
    "# Data Warehousing and Data Mining\n",
    "\n",
    "## Labs\n",
    "\n",
    "### Prepared by Gilroy Gordon\n",
    "\n",
    "#### Contact Information\n",
    "\n",
    "SCIT ext. 3643\n",
    "\n",
    "ggordonutech@gmail.com\n",
    "\n",
    "gilroy.gordon@utech.edu.jm\n",
    "\n"
   ]
  },
  {
   "cell_type": "markdown",
   "metadata": {},
   "source": [
    "### Week 2 - Visualization in Python\n",
    "\n",
    "\n",
    "Additional Reference Resources:\n",
    "\n",
    "https://matplotlib.org/gallery/index.html\n",
    "    \n",
    "https://matplotlib.org/users/pyplot_tutorial.html\n",
    "    \n",
    "https://seaborn.pydata.org/examples/index.html\n",
    "\n",
    "Objectives\n",
    "----\n",
    "---\n",
    "     > Importing Data\n",
    "         > csv\n",
    "     > 2D Visualization\n",
    "          > Bar Plots\n",
    "          > Scatter Plots\n",
    "          > Box Plot\n",
    "          > Histograms\n",
    "          > Line Charts\n",
    "     "
   ]
  },
  {
   "cell_type": "code",
   "execution_count": 10,
   "metadata": {},
   "outputs": [],
   "source": [
    "import pandas as pd # assists with managing data frames and data series, useful data structures and methods\n",
    "import numpy as np\n",
    "import os\n",
    "import matplotlib.pyplot as plt\n",
    "# indicates that we want our plots to be shown in our notebook and not in a sesparate viewer\n",
    "%matplotlib inline "
   ]
  },
  {
   "cell_type": "code",
   "execution_count": 11,
   "metadata": {},
   "outputs": [
    {
     "data": {
      "text/plain": [
       "['Week 2 - Visualization - Python.ipynb',\n",
       " 'Week 2 - Visualization - R.ipynb',\n",
       " 'data',\n",
       " '.ipynb_checkpoints']"
      ]
     },
     "execution_count": 11,
     "metadata": {},
     "output_type": "execute_result"
    }
   ],
   "source": [
    "# What files are available in the current directory?\n",
    "os.listdir('.')"
   ]
  },
  {
   "cell_type": "code",
   "execution_count": 12,
   "metadata": {},
   "outputs": [
    {
     "data": {
      "text/plain": [
       "['crime_incidents_2013_data.csv',\n",
       " 'US GDP.csv',\n",
       " 'crime_incidents_2013_location.csv',\n",
       " 'NBA.csv']"
      ]
     },
     "execution_count": 12,
     "metadata": {},
     "output_type": "execute_result"
    }
   ],
   "source": [
    "# What files are available in the \"./data\" directory?\n",
    "os.listdir('./data')"
   ]
  },
  {
   "cell_type": "code",
   "execution_count": 13,
   "metadata": {},
   "outputs": [
    {
     "data": {
      "text/html": [
       "<div>\n",
       "<table border=\"1\" class=\"dataframe\">\n",
       "  <thead>\n",
       "    <tr style=\"text-align: right;\">\n",
       "      <th></th>\n",
       "      <th>Year</th>\n",
       "      <th>US_GDP_BN</th>\n",
       "      <th>GDP_Growth_PC</th>\n",
       "    </tr>\n",
       "  </thead>\n",
       "  <tbody>\n",
       "    <tr>\n",
       "      <th>0</th>\n",
       "      <td>1980</td>\n",
       "      <td>2863</td>\n",
       "      <td>0.0</td>\n",
       "    </tr>\n",
       "    <tr>\n",
       "      <th>1</th>\n",
       "      <td>1981</td>\n",
       "      <td>3211</td>\n",
       "      <td>12.2</td>\n",
       "    </tr>\n",
       "    <tr>\n",
       "      <th>2</th>\n",
       "      <td>1982</td>\n",
       "      <td>3345</td>\n",
       "      <td>4.2</td>\n",
       "    </tr>\n",
       "    <tr>\n",
       "      <th>3</th>\n",
       "      <td>1983</td>\n",
       "      <td>3638</td>\n",
       "      <td>8.8</td>\n",
       "    </tr>\n",
       "    <tr>\n",
       "      <th>4</th>\n",
       "      <td>1984</td>\n",
       "      <td>4041</td>\n",
       "      <td>11.1</td>\n",
       "    </tr>\n",
       "    <tr>\n",
       "      <th>5</th>\n",
       "      <td>1985</td>\n",
       "      <td>4347</td>\n",
       "      <td>7.6</td>\n",
       "    </tr>\n",
       "    <tr>\n",
       "      <th>6</th>\n",
       "      <td>1986</td>\n",
       "      <td>4590</td>\n",
       "      <td>5.6</td>\n",
       "    </tr>\n",
       "    <tr>\n",
       "      <th>7</th>\n",
       "      <td>1987</td>\n",
       "      <td>4870</td>\n",
       "      <td>6.1</td>\n",
       "    </tr>\n",
       "  </tbody>\n",
       "</table>\n",
       "</div>"
      ],
      "text/plain": [
       "   Year  US_GDP_BN  GDP_Growth_PC\n",
       "0  1980       2863            0.0\n",
       "1  1981       3211           12.2\n",
       "2  1982       3345            4.2\n",
       "3  1983       3638            8.8\n",
       "4  1984       4041           11.1\n",
       "5  1985       4347            7.6\n",
       "6  1986       4590            5.6\n",
       "7  1987       4870            6.1"
      ]
     },
     "execution_count": 13,
     "metadata": {},
     "output_type": "execute_result"
    }
   ],
   "source": [
    "#read the contents of the 'crime_incidents_2013_data.csv' as a csv file and return the contents in a dataframe\n",
    "# store data in cr2013\n",
    "us_gdp = pd.read_csv('data/US GDP.csv')\n",
    "\n",
    "#preview the first 8 records of the dataset\n",
    "us_gdp.head(8)"
   ]
  },
  {
   "cell_type": "markdown",
   "metadata": {},
   "source": [
    "### Scatter Plot"
   ]
  },
  {
   "cell_type": "code",
   "execution_count": 37,
   "metadata": {},
   "outputs": [
    {
     "data": {
      "text/plain": [
       "<matplotlib.text.Text at 0x7f2a60a0d1d0>"
      ]
     },
     "execution_count": 37,
     "metadata": {},
     "output_type": "execute_result"
    },
    {
     "data": {
      "image/png": "[encoded data removed]",
      "text/plain": [
       "<matplotlib.figure.Figure at 0x7f2a60a9aba8>"
      ]
     },
     "metadata": {},
     "output_type": "display_data"
    }
   ],
   "source": [
    "us_gdp.plot(kind=\"scatter\", # or `us_gdp.plot.scatter(`\n",
    "    x='Year',\n",
    "    y='US_GDP_BN',\n",
    "    title=\"US GDP per year\",\n",
    "    figsize=(12,8)\n",
    ")\n",
    "plt.title(\"From %d to %d\" % (\n",
    "    us_gdp['Year'].min(),\n",
    "    us_gdp['Year'].max()\n",
    "),size=8)\n",
    "plt.suptitle(\"US GDP per Year\",size=12)\n",
    "plt.ylabel(\"GDP\")"
   ]
  },
  {
   "cell_type": "markdown",
   "metadata": {},
   "source": [
    "# Line Graph\n",
    "\n",
    "<i>\"Exploring the trend\"</i>"
   ]
  },
  {
   "cell_type": "code",
   "execution_count": 38,
   "metadata": {},
   "outputs": [
    {
     "data": {
      "text/plain": [
       "<matplotlib.text.Text at 0x7f2a60d28588>"
      ]
     },
     "execution_count": 38,
     "metadata": {},
     "output_type": "execute_result"
    },
    {
     "data": {
      "image/png": "[encoded data removed]",
      "text/plain": [
       "<matplotlib.figure.Figure at 0x7f2a60554da0>"
      ]
     },
     "metadata": {},
     "output_type": "display_data"
    }
   ],
   "source": [
    "us_gdp.plot(kind=\"line\", # or `us_gdp.plot.line(`\n",
    "    x='Year',\n",
    "    y='US_GDP_BN',\n",
    "    title=\"US GDP per year\",\n",
    "    figsize=(12,8)\n",
    ")\n",
    "plt.title(\"From %d to %d\" % (\n",
    "    us_gdp['Year'].min(),\n",
    "    us_gdp['Year'].max()\n",
    "),size=8)\n",
    "plt.suptitle(\"US GDP per Year\",size=12)\n",
    "plt.ylabel(\"GDP\")"
   ]
  },
  {
   "cell_type": "code",
   "execution_count": 53,
   "metadata": {},
   "outputs": [
    {
     "data": {
      "text/plain": [
       "'Size of each point on the Scatter plot is GDP Growth %'"
      ]
     },
     "execution_count": 53,
     "metadata": {},
     "output_type": "execute_result"
    },
    {
     "data": {
      "image/png": "[encoded data removed]",
      "text/plain": [
       "<matplotlib.figure.Figure at 0x7f2a60aaa198>"
      ]
     },
     "metadata": {},
     "output_type": "display_data"
    }
   ],
   "source": [
    "us_gdp.plot(kind=\"scatter\", # or `us_gdp.plot.line(`\n",
    "    x='Year',\n",
    "    y='US_GDP_BN',\n",
    "    s=us_gdp['GDP_Growth_PC'].apply(lambda growth: 0 if growth < 0 else growth) * 9,\n",
    "    title=\"US GDP per year\",\n",
    "    figsize=(12,8)\n",
    ")\n",
    "plt.title(\"From %d to %d\" % (\n",
    "    us_gdp['Year'].min(),\n",
    "    us_gdp['Year'].max()\n",
    "),size=8)\n",
    "plt.suptitle(\"US GDP per Year\",size=12)\n",
    "plt.ylabel(\"GDP\")\n",
    "\"Size of each point on the Scatter plot is GDP Growth %\""
   ]
  },
  {
   "cell_type": "markdown",
   "metadata": {},
   "source": [
    "### Bar Plot - Histogram"
   ]
  },
  {
   "cell_type": "code",
   "execution_count": 56,
   "metadata": {},
   "outputs": [
    {
     "data": {
      "text/plain": [
       "<matplotlib.text.Text at 0x7f2a5fff5ac8>"
      ]
     },
     "execution_count": 56,
     "metadata": {},
     "output_type": "execute_result"
    },
    {
     "data": {
      "image/png": "[encoded data removed]",
      "text/plain": [
       "<matplotlib.figure.Figure at 0x7f2a5fff51d0>"
      ]
     },
     "metadata": {},
     "output_type": "display_data"
    }
   ],
   "source": [
    "us_gdp.plot(kind=\"bar\", # or `us_gdp.plot.line(`\n",
    "    x='GDP_Growth_PC',\n",
    "    figsize=(12,8)\n",
    ")\n",
    "plt.title(\"From %d to %d\" % (\n",
    "    us_gdp['Year'].min(),\n",
    "    us_gdp['Year'].max()\n",
    "),size=8)\n",
    "plt.suptitle(\"US GDP per Year\",size=12)\n"
   ]
  },
  {
   "cell_type": "code",
   "execution_count": 57,
   "metadata": {},
   "outputs": [
    {
     "data": {
      "text/plain": [
       "<matplotlib.text.Text at 0x7f2a5fe80320>"
      ]
     },
     "execution_count": 57,
     "metadata": {},
     "output_type": "execute_result"
    },
    {
     "data": {
      "image/png": "[encoded data removed]",
      "text/plain": [
       "<matplotlib.figure.Figure at 0x7f2a5fe80160>"
      ]
     },
     "metadata": {},
     "output_type": "display_data"
    }
   ],
   "source": [
    "us_gdp['GDP_Growth_PC'].plot(kind=\"bar\", # or `us_gdp.plot.line(`\n",
    "\n",
    "    figsize=(12,8)\n",
    ")\n",
    "plt.title(\"From %d to %d\" % (\n",
    "    us_gdp['Year'].min(),\n",
    "    us_gdp['Year'].max()\n",
    "),size=8)\n",
    "plt.suptitle(\"US GDP per Year\",size=12)\n"
   ]
  },
  {
   "cell_type": "code",
   "execution_count": 60,
   "metadata": {},
   "outputs": [
    {
     "data": {
      "text/plain": [
       " 6.3     3\n",
       " 3.3     3\n",
       " 3.7     2\n",
       " 5.7     2\n",
       " 4.2     2\n",
       " 5.6     2\n",
       " 4.9     2\n",
       "-2.0     1\n",
       " 12.2    1\n",
       " 1.7     1\n",
       " 6.1     1\n",
       " 7.6     1\n",
       " 8.8     1\n",
       " 6.7     1\n",
       " 11.1    1\n",
       " 5.8     1\n",
       " 3.9     1\n",
       " 7.9     1\n",
       " 5.9     1\n",
       " 6.6     1\n",
       " 3.8     1\n",
       " 4.5     1\n",
       " 6.5     1\n",
       " 5.2     1\n",
       " 7.7     1\n",
       " 0.0     1\n",
       "Name: GDP_Growth_PC, dtype: int64"
      ]
     },
     "execution_count": 60,
     "metadata": {},
     "output_type": "execute_result"
    }
   ],
   "source": [
    "# What did we really just visualize?\n",
    "us_gdp['GDP_Growth_PC'].value_counts() #shows counts of value"
   ]
  },
  {
   "cell_type": "code",
   "execution_count": 68,
   "metadata": {},
   "outputs": [
    {
     "name": "stdout",
     "output_type": "stream",
     "text": [
      "0     (-2.0142, 0.84]\n",
      "1        (9.36, 12.2]\n",
      "2        (3.68, 6.52]\n",
      "3        (6.52, 9.36]\n",
      "4        (9.36, 12.2]\n",
      "5        (6.52, 9.36]\n",
      "6        (3.68, 6.52]\n",
      "7        (3.68, 6.52]\n",
      "8        (6.52, 9.36]\n",
      "9        (6.52, 9.36]\n",
      "10       (3.68, 6.52]\n",
      "11       (0.84, 3.68]\n",
      "12       (3.68, 6.52]\n",
      "13       (3.68, 6.52]\n",
      "14       (3.68, 6.52]\n",
      "15       (3.68, 6.52]\n",
      "16       (3.68, 6.52]\n",
      "17       (3.68, 6.52]\n",
      "18       (3.68, 6.52]\n",
      "19       (3.68, 6.52]\n",
      "20       (3.68, 6.52]\n",
      "21       (0.84, 3.68]\n",
      "22       (0.84, 3.68]\n",
      "23       (3.68, 6.52]\n",
      "24       (6.52, 9.36]\n",
      "25       (6.52, 9.36]\n",
      "26       (3.68, 6.52]\n",
      "27       (3.68, 6.52]\n",
      "28       (0.84, 3.68]\n",
      "29    (-2.0142, 0.84]\n",
      "30       (3.68, 6.52]\n",
      "31       (3.68, 6.52]\n",
      "32       (3.68, 6.52]\n",
      "33       (3.68, 6.52]\n",
      "34       (3.68, 6.52]\n",
      "Name: GDP_Growth_PC, dtype: category\n",
      "Categories (5, object): [(-2.0142, 0.84] < (0.84, 3.68] < (3.68, 6.52] < (6.52, 9.36] < (9.36, 12.2]]\n",
      "********************************\n",
      "[(-2.0142, 0.84], (9.36, 12.2], (3.68, 6.52], (6.52, 9.36], (0.84, 3.68]]\n",
      "Categories (5, object): [(-2.0142, 0.84] < (0.84, 3.68] < (3.68, 6.52] < (6.52, 9.36] < (9.36, 12.2]]\n"
     ]
    }
   ],
   "source": [
    "GDP_Growth_PC_binned = pd.cut(us_gdp['GDP_Growth_PC'],5)\n",
    "print(GDP_Growth_PC_binned)\n",
    "print(\"*\"*32)\n",
    "print(GDP_Growth_PC_binned.unique())"
   ]
  },
  {
   "cell_type": "code",
   "execution_count": 69,
   "metadata": {},
   "outputs": [
    {
     "data": {
      "text/plain": [
       "(3.68, 6.52]       21\n",
       "(6.52, 9.36]        6\n",
       "(0.84, 3.68]        4\n",
       "(9.36, 12.2]        2\n",
       "(-2.0142, 0.84]     2\n",
       "dtype: int64"
      ]
     },
     "execution_count": 69,
     "metadata": {},
     "output_type": "execute_result"
    }
   ],
   "source": [
    "GDP_Growth_PC_binned.value_counts()"
   ]
  },
  {
   "cell_type": "code",
   "execution_count": 72,
   "metadata": {},
   "outputs": [
    {
     "data": {
      "text/plain": [
       "<matplotlib.text.Text at 0x7f2a609bed30>"
      ]
     },
     "execution_count": 72,
     "metadata": {},
     "output_type": "execute_result"
    },
    {
     "data": {
      "image/png": "[encoded data removed]",
      "text/plain": [
       "<matplotlib.figure.Figure at 0x7f2a609be7b8>"
      ]
     },
     "metadata": {},
     "output_type": "display_data"
    }
   ],
   "source": [
    "GDP_Growth_PC_binned.value_counts().plot(kind='bar')\n",
    "plt.title(\"From %d to %d\" % (\n",
    "    us_gdp['Year'].min(),\n",
    "    us_gdp['Year'].max()\n",
    "),size=8)\n",
    "plt.suptitle(\"US GDP Growth %\",size=12)"
   ]
  },
  {
   "cell_type": "markdown",
   "metadata": {},
   "source": [
    "### Box plot"
   ]
  },
  {
   "cell_type": "code",
   "execution_count": 90,
   "metadata": {},
   "outputs": [
    {
     "data": {
      "text/plain": [
       "After Early 2000s            12\n",
       "Early 1990s                  12\n",
       "Late 1990s to Early 2000s    11\n",
       "dtype: int64"
      ]
     },
     "execution_count": 90,
     "metadata": {},
     "output_type": "execute_result"
    }
   ],
   "source": [
    "us_gdp_groups = pd.cut(us_gdp.Year,3,labels=['Early 1990s','Late 1990s to Early 2000s','After Early 2000s'])\n",
    "us_gdp_groups.value_counts()"
   ]
  },
  {
   "cell_type": "code",
   "execution_count": 96,
   "metadata": {},
   "outputs": [
    {
     "data": {
      "text/html": [
       "<div>\n",
       "<table border=\"1\" class=\"dataframe\">\n",
       "  <thead>\n",
       "    <tr style=\"text-align: right;\">\n",
       "      <th></th>\n",
       "      <th>x</th>\n",
       "      <th>y</th>\n",
       "    </tr>\n",
       "  </thead>\n",
       "  <tbody>\n",
       "    <tr>\n",
       "      <th>0</th>\n",
       "      <td>Early 1990s</td>\n",
       "      <td>2863</td>\n",
       "    </tr>\n",
       "    <tr>\n",
       "      <th>1</th>\n",
       "      <td>Early 1990s</td>\n",
       "      <td>3211</td>\n",
       "    </tr>\n",
       "    <tr>\n",
       "      <th>2</th>\n",
       "      <td>Early 1990s</td>\n",
       "      <td>3345</td>\n",
       "    </tr>\n",
       "    <tr>\n",
       "      <th>3</th>\n",
       "      <td>Early 1990s</td>\n",
       "      <td>3638</td>\n",
       "    </tr>\n",
       "    <tr>\n",
       "      <th>4</th>\n",
       "      <td>Early 1990s</td>\n",
       "      <td>4041</td>\n",
       "    </tr>\n",
       "    <tr>\n",
       "      <th>5</th>\n",
       "      <td>Early 1990s</td>\n",
       "      <td>4347</td>\n",
       "    </tr>\n",
       "    <tr>\n",
       "      <th>6</th>\n",
       "      <td>Early 1990s</td>\n",
       "      <td>4590</td>\n",
       "    </tr>\n",
       "    <tr>\n",
       "      <th>7</th>\n",
       "      <td>Early 1990s</td>\n",
       "      <td>4870</td>\n",
       "    </tr>\n",
       "    <tr>\n",
       "      <th>8</th>\n",
       "      <td>Early 1990s</td>\n",
       "      <td>5253</td>\n",
       "    </tr>\n",
       "    <tr>\n",
       "      <th>9</th>\n",
       "      <td>Early 1990s</td>\n",
       "      <td>5658</td>\n",
       "    </tr>\n",
       "    <tr>\n",
       "      <th>10</th>\n",
       "      <td>Early 1990s</td>\n",
       "      <td>5980</td>\n",
       "    </tr>\n",
       "    <tr>\n",
       "      <th>11</th>\n",
       "      <td>Early 1990s</td>\n",
       "      <td>6174</td>\n",
       "    </tr>\n",
       "    <tr>\n",
       "      <th>12</th>\n",
       "      <td>Late 1990s to Early 2000s</td>\n",
       "      <td>6539</td>\n",
       "    </tr>\n",
       "    <tr>\n",
       "      <th>13</th>\n",
       "      <td>Late 1990s to Early 2000s</td>\n",
       "      <td>6879</td>\n",
       "    </tr>\n",
       "    <tr>\n",
       "      <th>14</th>\n",
       "      <td>Late 1990s to Early 2000s</td>\n",
       "      <td>7309</td>\n",
       "    </tr>\n",
       "    <tr>\n",
       "      <th>15</th>\n",
       "      <td>Late 1990s to Early 2000s</td>\n",
       "      <td>7664</td>\n",
       "    </tr>\n",
       "    <tr>\n",
       "      <th>16</th>\n",
       "      <td>Late 1990s to Early 2000s</td>\n",
       "      <td>8100</td>\n",
       "    </tr>\n",
       "    <tr>\n",
       "      <th>17</th>\n",
       "      <td>Late 1990s to Early 2000s</td>\n",
       "      <td>8609</td>\n",
       "    </tr>\n",
       "    <tr>\n",
       "      <th>18</th>\n",
       "      <td>Late 1990s to Early 2000s</td>\n",
       "      <td>9089</td>\n",
       "    </tr>\n",
       "    <tr>\n",
       "      <th>19</th>\n",
       "      <td>Late 1990s to Early 2000s</td>\n",
       "      <td>9661</td>\n",
       "    </tr>\n",
       "    <tr>\n",
       "      <th>20</th>\n",
       "      <td>Late 1990s to Early 2000s</td>\n",
       "      <td>10285</td>\n",
       "    </tr>\n",
       "    <tr>\n",
       "      <th>21</th>\n",
       "      <td>Late 1990s to Early 2000s</td>\n",
       "      <td>10622</td>\n",
       "    </tr>\n",
       "    <tr>\n",
       "      <th>22</th>\n",
       "      <td>Late 1990s to Early 2000s</td>\n",
       "      <td>10978</td>\n",
       "    </tr>\n",
       "    <tr>\n",
       "      <th>23</th>\n",
       "      <td>After Early 2000s</td>\n",
       "      <td>11511</td>\n",
       "    </tr>\n",
       "    <tr>\n",
       "      <th>24</th>\n",
       "      <td>After Early 2000s</td>\n",
       "      <td>12275</td>\n",
       "    </tr>\n",
       "    <tr>\n",
       "      <th>25</th>\n",
       "      <td>After Early 2000s</td>\n",
       "      <td>13094</td>\n",
       "    </tr>\n",
       "    <tr>\n",
       "      <th>26</th>\n",
       "      <td>After Early 2000s</td>\n",
       "      <td>13856</td>\n",
       "    </tr>\n",
       "    <tr>\n",
       "      <th>27</th>\n",
       "      <td>After Early 2000s</td>\n",
       "      <td>14478</td>\n",
       "    </tr>\n",
       "    <tr>\n",
       "      <th>28</th>\n",
       "      <td>After Early 2000s</td>\n",
       "      <td>14719</td>\n",
       "    </tr>\n",
       "    <tr>\n",
       "      <th>29</th>\n",
       "      <td>After Early 2000s</td>\n",
       "      <td>14419</td>\n",
       "    </tr>\n",
       "    <tr>\n",
       "      <th>30</th>\n",
       "      <td>After Early 2000s</td>\n",
       "      <td>14964</td>\n",
       "    </tr>\n",
       "    <tr>\n",
       "      <th>31</th>\n",
       "      <td>After Early 2000s</td>\n",
       "      <td>15518</td>\n",
       "    </tr>\n",
       "    <tr>\n",
       "      <th>32</th>\n",
       "      <td>After Early 2000s</td>\n",
       "      <td>16163</td>\n",
       "    </tr>\n",
       "    <tr>\n",
       "      <th>33</th>\n",
       "      <td>After Early 2000s</td>\n",
       "      <td>16768</td>\n",
       "    </tr>\n",
       "    <tr>\n",
       "      <th>34</th>\n",
       "      <td>After Early 2000s</td>\n",
       "      <td>17419</td>\n",
       "    </tr>\n",
       "  </tbody>\n",
       "</table>\n",
       "</div>"
      ],
      "text/plain": [
       "                            x      y\n",
       "0                 Early 1990s   2863\n",
       "1                 Early 1990s   3211\n",
       "2                 Early 1990s   3345\n",
       "3                 Early 1990s   3638\n",
       "4                 Early 1990s   4041\n",
       "5                 Early 1990s   4347\n",
       "6                 Early 1990s   4590\n",
       "7                 Early 1990s   4870\n",
       "8                 Early 1990s   5253\n",
       "9                 Early 1990s   5658\n",
       "10                Early 1990s   5980\n",
       "11                Early 1990s   6174\n",
       "12  Late 1990s to Early 2000s   6539\n",
       "13  Late 1990s to Early 2000s   6879\n",
       "14  Late 1990s to Early 2000s   7309\n",
       "15  Late 1990s to Early 2000s   7664\n",
       "16  Late 1990s to Early 2000s   8100\n",
       "17  Late 1990s to Early 2000s   8609\n",
       "18  Late 1990s to Early 2000s   9089\n",
       "19  Late 1990s to Early 2000s   9661\n",
       "20  Late 1990s to Early 2000s  10285\n",
       "21  Late 1990s to Early 2000s  10622\n",
       "22  Late 1990s to Early 2000s  10978\n",
       "23          After Early 2000s  11511\n",
       "24          After Early 2000s  12275\n",
       "25          After Early 2000s  13094\n",
       "26          After Early 2000s  13856\n",
       "27          After Early 2000s  14478\n",
       "28          After Early 2000s  14719\n",
       "29          After Early 2000s  14419\n",
       "30          After Early 2000s  14964\n",
       "31          After Early 2000s  15518\n",
       "32          After Early 2000s  16163\n",
       "33          After Early 2000s  16768\n",
       "34          After Early 2000s  17419"
      ]
     },
     "execution_count": 96,
     "metadata": {},
     "output_type": "execute_result"
    }
   ],
   "source": [
    "us_gdp_bn_with_groups = pd.DataFrame({'x':us_gdp_groups,'y':us_gdp['US_GDP_BN']})\n",
    "us_gdp_bn_with_groups"
   ]
  },
  {
   "cell_type": "code",
   "execution_count": 108,
   "metadata": {},
   "outputs": [
    {
     "data": {
      "text/plain": [
       "<matplotlib.text.Text at 0x7f2a5eb8ccc0>"
      ]
     },
     "execution_count": 108,
     "metadata": {},
     "output_type": "execute_result"
    },
    {
     "data": {
      "image/png": "[encoded data removed]",
      "text/plain": [
       "<matplotlib.figure.Figure at 0x7f2a5ebf4080>"
      ]
     },
     "metadata": {},
     "output_type": "display_data"
    }
   ],
   "source": [
    "us_gdp_bn_with_groups.boxplot(by='x')\n",
    "plt.title(\"From %d to %d\" % (\n",
    "    us_gdp['Year'].min(),\n",
    "    us_gdp['Year'].max()\n",
    "),size=8)\n",
    "plt.suptitle(\"US GDP per year\",size=12)"
   ]
  },
  {
   "cell_type": "markdown",
   "metadata": {},
   "source": [
    "#### Many other options available . Try seaborn!"
   ]
  },
  {
   "cell_type": "code",
   "execution_count": null,
   "metadata": {},
   "outputs": [],
   "source": []
  }
 ],
 "metadata": {
  "kernelspec": {
   "display_name": "Python 3",
   "language": "python",
   "name": "python3"
  },
  "language_info": {
   "codemirror_mode": {
    "name": "ipython",
    "version": 3
   },
   "file_extension": ".py",
   "mimetype": "text/x-python",
   "name": "python",
   "nbconvert_exporter": "python",
   "pygments_lexer": "ipython3",
   "version": "3.5.2"
  }
 },
 "nbformat": 4,
 "nbformat_minor": 2
}
