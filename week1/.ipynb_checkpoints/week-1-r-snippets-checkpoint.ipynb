{
 "cells": [
  {
   "cell_type": "code",
   "execution_count": null,
   "metadata": {
    "_execution_state": "idle",
    "_uuid": "abd718dd5f789fe7004ab84be1616b32b251949a"
   },
   "outputs": [],
   "source": [
    "## Importing packages\n",
    "\n",
    "# This R environment comes with all of CRAN and many other helpful packages preinstalled.\n",
    "# You can see which packages are installed by checking out the kaggle/rstats docker image: \n",
    "# https://github.com/kaggle/docker-rstats\n",
    "\n",
    "library(tidyverse) # metapackage with lots of helpful functions\n",
    "\n",
    "## Running code\n",
    "\n",
    "# In a notebook, you can run a single code cell by clicking in the cell and then hitting \n",
    "# the blue arrow to the left, or by clicking in the cell and pressing Shift+Enter. In a script, \n",
    "# you can run code by highlighting the code you want to run and then clicking the blue arrow\n",
    "# at the bottom of this window.\n",
    "\n",
    "## Reading in files\n",
    "\n",
    "# You can access files from datasets you've added to this kernel in the \"../input/\" directory.\n",
    "# You can see the files added to this kernel by running the code below. \n",
    "\n",
    "list.files(path = \"../input\")\n",
    "\n",
    "## Saving data\n",
    "\n",
    "# If you save any files or images, these will be put in the \"output\" directory. You \n",
    "# can see the output directory by committing and running your kernel (using the \n",
    "# Commit & Run button) and then checking out the compiled version of your kernel."
   ]
  },
  {
   "cell_type": "markdown",
   "metadata": {
    "_uuid": "dfd19b0c9ff50b4043508d377e89d876307ae704"
   },
   "source": [
    "**Data Warehousing & Data Mining**\n",
    "* Introduction to R"
   ]
  },
  {
   "cell_type": "code",
   "execution_count": null,
   "metadata": {
    "_uuid": "ee0af5e387eca7eab6fb57476939e53479e9f4e4"
   },
   "outputs": [],
   "source": [
    "a=3"
   ]
  },
  {
   "cell_type": "code",
   "execution_count": null,
   "metadata": {
    "_uuid": "a242a6340bc70a5a3646a7e1a93c481af05b682d"
   },
   "outputs": [],
   "source": [
    "a"
   ]
  },
  {
   "cell_type": "code",
   "execution_count": null,
   "metadata": {
    "_uuid": "b902619b15b08c6a054f282e4635e0b0841a48f9"
   },
   "outputs": [],
   "source": [
    "a=4;"
   ]
  },
  {
   "cell_type": "code",
   "execution_count": null,
   "metadata": {
    "_uuid": "7a101a9d81b8e0d919d1bb9facaabf5eefd73071"
   },
   "outputs": [],
   "source": [
    "a"
   ]
  },
  {
   "cell_type": "code",
   "execution_count": null,
   "metadata": {
    "_uuid": "82ce087f6712282819fbd8079e248135669a4859"
   },
   "outputs": [],
   "source": [
    "class(a)"
   ]
  },
  {
   "cell_type": "code",
   "execution_count": null,
   "metadata": {
    "_uuid": "c09c3018da70c2bca4df2afd8a2ccf401517f731"
   },
   "outputs": [],
   "source": [
    "a_string = \"a random string\"\n",
    "a_string"
   ]
  },
  {
   "cell_type": "code",
   "execution_count": null,
   "metadata": {
    "_uuid": "fccd81bac1cde81f96736ec6a3d992a28b32989e"
   },
   "outputs": [],
   "source": [
    "a.string = 'another random string'"
   ]
  },
  {
   "cell_type": "code",
   "execution_count": null,
   "metadata": {
    "_uuid": "cb7bf4fbb315daf5c75550c0e931e6891e9086a9"
   },
   "outputs": [],
   "source": [
    "a.string"
   ]
  },
  {
   "cell_type": "code",
   "execution_count": null,
   "metadata": {
    "_uuid": "02ecdb8f3815d5a6d51c9ecc47fa27049b65e0c1"
   },
   "outputs": [],
   "source": [
    "a_string"
   ]
  },
  {
   "cell_type": "code",
   "execution_count": null,
   "metadata": {
    "_uuid": "e20018d27af81181067fdfc4865df80969142703"
   },
   "outputs": [],
   "source": [
    "class(a_string)"
   ]
  },
  {
   "cell_type": "code",
   "execution_count": null,
   "metadata": {
    "_uuid": "fd529d76134de72d41ee96fc894c8f41e59eff3e"
   },
   "outputs": [],
   "source": [
    "c(1,2,3,5,9)"
   ]
  },
  {
   "cell_type": "code",
   "execution_count": null,
   "metadata": {
    "_uuid": "0e42e66e62784a696f9e4f5e5b4f44e7320e3c72"
   },
   "outputs": [],
   "source": [
    "sum(c(1,2,3,5,9))"
   ]
  },
  {
   "cell_type": "code",
   "execution_count": null,
   "metadata": {
    "_uuid": "9a2be1346be7e63a9298a41920e9c8c0948c993a"
   },
   "outputs": [],
   "source": [
    "a= c(5,6,7,8,9,10)\n",
    "b <- 25:30\n"
   ]
  },
  {
   "cell_type": "code",
   "execution_count": null,
   "metadata": {
    "_uuid": "2322f6a29355a8f27cf9d2af8f36325587323635"
   },
   "outputs": [],
   "source": [
    "b"
   ]
  },
  {
   "cell_type": "code",
   "execution_count": null,
   "metadata": {
    "_uuid": "362ae37ec184f94be63c250263718b469ea48a62"
   },
   "outputs": [],
   "source": [
    "a+b"
   ]
  },
  {
   "cell_type": "code",
   "execution_count": null,
   "metadata": {
    "_uuid": "4eb52a37c5ce0f9a545c14c73d05cd806cf9ab0d"
   },
   "outputs": [],
   "source": [
    "c = 1:6"
   ]
  },
  {
   "cell_type": "code",
   "execution_count": null,
   "metadata": {
    "_uuid": "1d6eff79422237c9c9e17e31f0d43d96171fef3b"
   },
   "outputs": [],
   "source": [
    "a+c"
   ]
  },
  {
   "cell_type": "code",
   "execution_count": null,
   "metadata": {
    "_uuid": "124457333f6f43486d0ab2297da24f2cae5a12b2"
   },
   "outputs": [],
   "source": [
    "2:3"
   ]
  },
  {
   "cell_type": "code",
   "execution_count": null,
   "metadata": {
    "_uuid": "a21726d199df67e01c9c7b4306d37600a90a885b"
   },
   "outputs": [],
   "source": [
    "1:3"
   ]
  },
  {
   "cell_type": "code",
   "execution_count": null,
   "metadata": {
    "_uuid": "d891e0cda8331681aa821449d9cc75a7623647dd"
   },
   "outputs": [],
   "source": [
    "my.list = list(name=\"Gordon\",age=500)\n",
    "my.list"
   ]
  },
  {
   "cell_type": "code",
   "execution_count": null,
   "metadata": {
    "_uuid": "a8a42117b266ee2d7bc32ffa8dc7b969a251d8f7"
   },
   "outputs": [],
   "source": [
    "my.list[[1]]"
   ]
  },
  {
   "cell_type": "code",
   "execution_count": null,
   "metadata": {
    "_uuid": "e550d267b7bfa2221531d7a8c2cf6a2f2d3edee0"
   },
   "outputs": [],
   "source": [
    "my.list[0]"
   ]
  },
  {
   "cell_type": "code",
   "execution_count": null,
   "metadata": {
    "_uuid": "f8365a45069c3dfb2cba94b003a1c9af4759cc06"
   },
   "outputs": [],
   "source": [
    "matrix(1:12,3,4)"
   ]
  },
  {
   "cell_type": "code",
   "execution_count": null,
   "metadata": {
    "_uuid": "e2817aa001771c93df077bd1bab1c26be23e04ae"
   },
   "outputs": [],
   "source": [
    "as.data.frame(matrix(1:12,ncol=4,nrow=3))"
   ]
  },
  {
   "cell_type": "code",
   "execution_count": null,
   "metadata": {
    "_uuid": "d9002bc32c16d44f07cb17344c9010c4589a1198"
   },
   "outputs": [],
   "source": [
    "a"
   ]
  },
  {
   "cell_type": "code",
   "execution_count": null,
   "metadata": {
    "_uuid": "4e2cbf82f5c5040c99e527ad254537769494d5c3"
   },
   "outputs": [],
   "source": [
    "a==5"
   ]
  },
  {
   "cell_type": "code",
   "execution_count": null,
   "metadata": {
    "_uuid": "76d24d7f09364532ce6d64dad5b84f95ddf98a31"
   },
   "outputs": [],
   "source": [
    "g=4"
   ]
  },
  {
   "cell_type": "code",
   "execution_count": null,
   "metadata": {
    "_uuid": "c97951747716e61bbdcd38c52bf6d64637e8b7e6"
   },
   "outputs": [],
   "source": [
    "if(g==4){\n",
    "    print(\"water is good\")\n",
    "}"
   ]
  },
  {
   "cell_type": "code",
   "execution_count": null,
   "metadata": {
    "_uuid": "6a3750fcfe5469a3065412a7672b202d9320f25e"
   },
   "outputs": [],
   "source": [
    "if(g==5){\n",
    "    print(\"water is good\")\n",
    "}else{\n",
    "    print(\"definitely not\")\n",
    "}"
   ]
  },
  {
   "cell_type": "code",
   "execution_count": null,
   "metadata": {
    "_uuid": "987acf66a6057c6c8a03673b6dfa9f1b9c528d2c"
   },
   "outputs": [],
   "source": [
    "g=3\n",
    "repeat {\n",
    "    print(g)\n",
    "    g = g-1\n",
    "    if(g==0){\n",
    "        break\n",
    "    }\n",
    "}"
   ]
  },
  {
   "cell_type": "code",
   "execution_count": null,
   "metadata": {
    "_uuid": "736d9f7a808ff853700b5b4e53aba7dd650a97f0"
   },
   "outputs": [],
   "source": [
    "for( i in 1:3){\n",
    "    print(i)\n",
    "}"
   ]
  },
  {
   "cell_type": "code",
   "execution_count": null,
   "metadata": {
    "_uuid": "c7702789b95d81004f2cb9279575adefc2ae889b"
   },
   "outputs": [],
   "source": [
    "add = function(a,b){\n",
    "    print(a+b)\n",
    "}"
   ]
  },
  {
   "cell_type": "code",
   "execution_count": null,
   "metadata": {
    "_uuid": "060bb25e644f0375589ee023d0a51a3a8e5d627f"
   },
   "outputs": [],
   "source": [
    "result = add(b=4,a=5)\n",
    "result"
   ]
  },
  {
   "cell_type": "code",
   "execution_count": null,
   "metadata": {
    "_uuid": "63454a17300d3fea1bb80f5330a89b8b4608a342"
   },
   "outputs": [],
   "source": []
  }
 ],
 "metadata": {
  "kernelspec": {
   "display_name": "R",
   "language": "R",
   "name": "ir"
  },
  "language_info": {
   "codemirror_mode": "r",
   "file_extension": ".r",
   "mimetype": "text/x-r-source",
   "name": "R",
   "pygments_lexer": "r",
   "version": "3.4.4"
  }
 },
 "nbformat": 4,
 "nbformat_minor": 1
}
