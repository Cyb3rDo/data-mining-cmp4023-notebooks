{
 "cells": [
  {
   "cell_type": "markdown",
   "metadata": {},
   "source": [
    "# Data Warehousing and Data Mining\n",
    "\n",
    "## Labs\n",
    "\n",
    "### Prepared by Gilroy Gordon\n",
    "\n",
    "#### Contact Information\n",
    "SCIT ext. 3643\n",
    "\n",
    "ggordonutech@gmail.com\n",
    "\n",
    "gilroy.gordon@utech.edu.jm\n",
    "\n",
    "\n",
    "#### Recommended Text\n",
    "\n",
    "R for Data Science - http://r4ds.had.co.nz/\n",
    "\n",
    "Python for Data Science - https://jakevdp.github.io/PythonDataScienceHandbook/\n",
    "\n",
    "### Week 1\n",
    "\n",
    " - Introduction\n",
    "     > Language Syntax\n",
    "     \n",
    "     > Data Types\n",
    "     \n",
    "     > Operators\n",
    "     \n",
    "     > Program Control Structures\n",
    "     \n",
    "     > Functions\n",
    "     \n",
    "     > Data Structures\n",
    "     \n",
    "         > Lists, DataFrames\n",
    "         \n",
    "     > Reading and Writing Files\n",
    "     "
   ]
  },
  {
   "cell_type": "code",
   "execution_count": 1,
   "metadata": {},
   "outputs": [
    {
     "data": {
      "text/plain": [
       "16"
      ]
     },
     "execution_count": 1,
     "metadata": {},
     "output_type": "execute_result"
    }
   ],
   "source": [
    "4**2"
   ]
  },
  {
   "cell_type": "code",
   "execution_count": 3,
   "metadata": {},
   "outputs": [
    {
     "data": {
      "text/plain": [
       "10"
      ]
     },
     "execution_count": 3,
     "metadata": {},
     "output_type": "execute_result"
    }
   ],
   "source": [
    "8^2"
   ]
  },
  {
   "cell_type": "code",
   "execution_count": null,
   "metadata": {},
   "outputs": [],
   "source": []
  }
 ],
 "metadata": {
  "kernelspec": {
   "display_name": "Python 3",
   "language": "python",
   "name": "python3"
  },
  "language_info": {
   "codemirror_mode": {
    "name": "ipython",
    "version": 3
   },
   "file_extension": ".py",
   "mimetype": "text/x-python",
   "name": "python",
   "nbconvert_exporter": "python",
   "pygments_lexer": "ipython3",
   "version": "3.5.2"
  }
 },
 "nbformat": 4,
 "nbformat_minor": 2
}
